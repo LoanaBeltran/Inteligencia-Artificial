{
 "cells": [
  {
   "cell_type": "markdown",
   "id": "1de89ede-7841-4a91-b76e-789b9a14e0fc",
   "metadata": {},
   "source": [
    " <figure>\n",
    " <img src=\"https://1000marcas.net/wp-content/uploads/2020/11/Python-logo.png\" width=\"200\" height=\"200\" align=\"center\" /> \n",
    " </figure>"
   ]
  },
  {
   "cell_type": "markdown",
   "id": "607770cf-43fd-4541-b2c4-93083a3a124b",
   "metadata": {},
   "source": [
    "___\n",
    "## <span style=\"color:#F72585\">Loana Beltran Cardozo</span>"
   ]
  },
  {
   "cell_type": "markdown",
   "id": "0f48ee35-cbeb-4e23-b8ed-24925f71ccf3",
   "metadata": {},
   "source": [
    "\n",
    " <figure>\n",
    " <img src=\"https://raw.githubusercontent.com/LoanaBeltran/Inteligencia-Artificial/main/Dimplomado_Ciencia_Datos/Tareas/imagen/Captura.PNG\"  width=\"80\" align=\"right\"/> \n",
    " </figure>    \n",
    " \n",
    "Soy estudiante de estadística de la Universidad Nacional de Colombia. Me interesa aprender de la  minería de datos, así mismo comenzar a manejar grandes bases de datos. Puedo analizar tanto las variables como la información, permitiendo profundizar en el estudio para comprobar y demostrar la consistencia y congruencia con argumentos que sustenten los criterios planteados al momento de trabajar. Además de colaboro con compañeros de distintas áreas para lograr objetivos comunes. \n",
    "\n",
    " \n",
    " \n"
   ]
  },
  {
   "cell_type": "markdown",
   "id": "40769e27-66a7-4e70-89d7-179dfc535abd",
   "metadata": {},
   "source": [
    "___"
   ]
  },
  {
   "cell_type": "markdown",
   "id": "f85f6dff-ed80-47a6-aa6f-e8980f18195d",
   "metadata": {},
   "source": [
    "# <span style=\"color:#F72585\"><center>Desviación estándar</center></span>"
   ]
  },
  {
   "cell_type": "markdown",
   "id": "989c3d28-1e48-4604-8a05-5f114eaa5f2e",
   "metadata": {},
   "source": [
    "La desviación estándar es una medida que ofrece información sobre la dispersión de una distribución de datos. Entre más dispersa está una distribución de datos más grande es su desviación estándar, así mismo, si su valor es cercano a 0, indica que los datos tienden a estar más cerca a la media.   \n",
    "\n",
    "Cabe denotar que la desviación estándar de una población es normalmente representada por la letra griega $\\sigma$ cuando se calcula sobre la base de toda la población y por la letra $s$ cuando se infiere de una muestra. Por lo cual, las formulas para calcular la desviación estandar muestral y la desviación estandar poblacional respectivamente son    \n",
    "$s=\\sqrt{\\frac{\\sum_{i=1}^n\\left(x_i-\\bar{x}\\right)^2}{n-1}}$ y $\\sigma=\\sqrt{\\frac{\\sum_i^N\\left(X_i-\\bar{X}\\right)^2}{N}}$.    \n",
    "\n",
    "Donde:\n",
    "* $\\bar{x}$ ó $\\bar{X}$ representa la media de los datos.\n",
    "\n",
    "* $n$ ó $N$ es la cantidad de valores evaluados.\n",
    "\n",
    "* $x_i$ ó $X_i$ es cada uno de los valores."
   ]
  },
  {
   "cell_type": "markdown",
   "id": "b89f6340-2196-45fa-b0d4-cd6cffe6c9cc",
   "metadata": {},
   "source": [
    " A continuación veremos un ejemplo tomado de  [Khan Academy](https://es.khanacademy.org/math/probability/data-distributions-a1/summarizing-spread-distributions/a/introduction-to-standard-deviation#:~:text=La%20desviaci%C3%B3n%20est%C3%A1ndar%20mide%20la,grande%20es%20su%20desviaci%C3%B3n%20est%C3%A1ndar.&text=Es%20interesante%20que%20la%20desviaci%C3%B3n%20est%C3%A1ndar%20no%20puede%20ser%20negativa.), en el cual ejemplifica de mejor manera esta medida de dispersión. Independiente de cómo fue calculada, en este ejemplo la desviación estándar está denotada como $DS$.\n",
    " \n",
    " <figure>\n",
    " <center>\n",
    " <img src=\"https://raw.githubusercontent.com/LoanaBeltran/Inteligencia-Artificial/main/Dimplomado_Ciencia_Datos/Tareas/imagen/sd.jpg\"  width=\"400\" /> \n",
    " </center>\n",
    " </figure>"
   ]
  },
  {
   "cell_type": "markdown",
   "id": "ee4c8b3a-54a1-465b-a8f5-aa733062ea85",
   "metadata": {},
   "source": [
    "Gráficamente vemos que los puntos azules se encuentran más dispersos que los puntos verdes, el valor de la desviación estándar de cada distribución será la medida que nos permite concluir que *hay una mayor dispersión de los datos en la distribución azul a comparación de la verde*."
   ]
  },
  {
   "cell_type": "markdown",
   "id": "fe8da260-8ab4-4ae8-aeed-cb45891574ec",
   "metadata": {},
   "source": [
    "___\n",
    "*Nota: Si desea conocer más del tema, le recomendamos ver la unidad de distribuciones de datos y el resumen de la dispersión de distribuciones que propone [Khan Academy](https://es.khanacademy.org/math/probability/data-distributions-a1#summarizing-spread-distributions).*\n",
    "___"
   ]
  },
  {
   "cell_type": "code",
   "execution_count": null,
   "id": "41e51175-2960-461c-99a5-ed65442a332c",
   "metadata": {},
   "outputs": [],
   "source": []
  }
 ],
 "metadata": {
  "kernelspec": {
   "display_name": "Python 3",
   "language": "python",
   "name": "python3"
  },
  "language_info": {
   "codemirror_mode": {
    "name": "ipython",
    "version": 3
   },
   "file_extension": ".py",
   "mimetype": "text/x-python",
   "name": "python",
   "nbconvert_exporter": "python",
   "pygments_lexer": "ipython3",
   "version": "3.8.8"
  }
 },
 "nbformat": 4,
 "nbformat_minor": 5
}
